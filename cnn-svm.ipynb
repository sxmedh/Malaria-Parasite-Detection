{
 "cells": [
  {
   "cell_type": "code",
   "execution_count": 1,
   "metadata": {},
   "outputs": [
    {
     "name": "stderr",
     "output_type": "stream",
     "text": [
      "2024-04-13 20:22:24.107151: I external/local_tsl/tsl/cuda/cudart_stub.cc:31] Could not find cuda drivers on your machine, GPU will not be used.\n",
      "2024-04-13 20:22:24.140220: E external/local_xla/xla/stream_executor/cuda/cuda_dnn.cc:9261] Unable to register cuDNN factory: Attempting to register factory for plugin cuDNN when one has already been registered\n",
      "2024-04-13 20:22:24.140260: E external/local_xla/xla/stream_executor/cuda/cuda_fft.cc:607] Unable to register cuFFT factory: Attempting to register factory for plugin cuFFT when one has already been registered\n",
      "2024-04-13 20:22:24.141064: E external/local_xla/xla/stream_executor/cuda/cuda_blas.cc:1515] Unable to register cuBLAS factory: Attempting to register factory for plugin cuBLAS when one has already been registered\n",
      "2024-04-13 20:22:24.146011: I external/local_tsl/tsl/cuda/cudart_stub.cc:31] Could not find cuda drivers on your machine, GPU will not be used.\n",
      "2024-04-13 20:22:24.147010: I tensorflow/core/platform/cpu_feature_guard.cc:182] This TensorFlow binary is optimized to use available CPU instructions in performance-critical operations.\n",
      "To enable the following instructions: AVX2 FMA, in other operations, rebuild TensorFlow with the appropriate compiler flags.\n",
      "2024-04-13 20:22:24.764608: W tensorflow/compiler/tf2tensorrt/utils/py_utils.cc:38] TF-TRT Warning: Could not find TensorRT\n"
     ]
    }
   ],
   "source": [
    "from sklearn.metrics import accuracy_score, f1_score, precision_score, confusion_matrix, roc_auc_score, roc_curve\n",
    "import warnings\n",
    "warnings.filterwarnings('ignore')\n",
    "\n",
    "\n",
    "import os\n",
    "import numpy as np\n",
    "import pandas as pd\n",
    "\n",
    "from sklearn.model_selection import train_test_split\n",
    "from sklearn.svm import SVC\n",
    "from sklearn.metrics import accuracy_score\n",
    "import tensorflow as tf\n",
    "from tensorflow.keras import Sequential\n",
    "from keras.layers import Conv2D, MaxPooling2D, Activation, Dropout, Flatten, Dense\n",
    "from keras.callbacks import EarlyStopping\n",
    "from tensorflow.keras.preprocessing.image import ImageDataGenerator\n",
    "from keras.applications.vgg19 import VGG19\n",
    "from keras.applications.inception_v3 import InceptionV3, preprocess_input\n",
    "from keras.applications import resnet50\n",
    "from keras.models import Model, load_model\n",
    "from keras.layers import Input\n",
    "from tensorflow.keras.layers import BatchNormalization\n",
    "import matplotlib.pyplot as plt\n",
    "import cv2\n",
    "\n"
   ]
  },
  {
   "cell_type": "code",
   "execution_count": 2,
   "metadata": {},
   "outputs": [
    {
     "name": "stdout",
     "output_type": "stream",
     "text": [
      "./data\n",
      "./data/cell_images\n",
      "./data/cell_images/cell_images\n",
      "./data/cell_images/cell_images/Parasitized\n",
      "./data/cell_images/cell_images/Uninfected\n",
      "./data/Parasitized\n",
      "./data/Uninfected\n"
     ]
    }
   ],
   "source": [
    "for dirname, _, filenames in os.walk('./data'):\n",
    "    print(dirname)"
   ]
  },
  {
   "cell_type": "code",
   "execution_count": 3,
   "metadata": {},
   "outputs": [],
   "source": [
    "def data_prep(parasitized, uninfected):\n",
    "    \n",
    "    parasitized = [\"./data/Parasitized\" + '/' +  parasitize for parasitize in parasitized]\n",
    "    uninfected = [\"./data/Uninfected\" + '/' +  uninfect for uninfect in uninfected]\n",
    "\n",
    "    labels = len(parasitized) * ['parasitized'] + len(uninfected) * ['uninfected']\n",
    "    data = parasitized + uninfected\n",
    "\n",
    "    return pd.DataFrame({'Image_Path': data , 'Labels': labels})"
   ]
  },
  {
   "cell_type": "code",
   "execution_count": 4,
   "metadata": {},
   "outputs": [],
   "source": [
    "df = data_prep(os.listdir(\"./data/Parasitized/\"), os.listdir(\"./data/Uninfected/\"))"
   ]
  },
  {
   "cell_type": "code",
   "execution_count": 5,
   "metadata": {},
   "outputs": [
    {
     "name": "stdout",
     "output_type": "stream",
     "text": [
      "Shape of the DataFrame: (27558, 2)\n",
      "\n",
      "Head of the DataFrame:\n",
      "                                          Image_Path       Labels\n",
      "0  ./data/Parasitized/C99P60ThinF_IMG_20150918_14...  parasitized\n",
      "1  ./data/Parasitized/C99P60ThinF_IMG_20150918_14...  parasitized\n",
      "2  ./data/Parasitized/C99P60ThinF_IMG_20150918_14...  parasitized\n",
      "3  ./data/Parasitized/C99P60ThinF_IMG_20150918_14...  parasitized\n",
      "4  ./data/Parasitized/C99P60ThinF_IMG_20150918_14...  parasitized\n",
      "\n",
      "Tail of the DataFrame:\n",
      "                                              Image_Path      Labels\n",
      "27553  ./data/Uninfected/C99P60ThinF_IMG_20150918_141...  uninfected\n",
      "27554  ./data/Uninfected/C99P60ThinF_IMG_20150918_141...  uninfected\n",
      "27555  ./data/Uninfected/C99P60ThinF_IMG_20150918_141...  uninfected\n",
      "27556  ./data/Uninfected/C99P60ThinF_IMG_20150918_141...  uninfected\n",
      "27557  ./data/Uninfected/C99P60ThinF_IMG_20150918_141...  uninfected\n"
     ]
    }
   ],
   "source": [
    "\n",
    "\n",
    "print(\"Shape of the DataFrame:\", df.shape)\n",
    "print(\"\\nHead of the DataFrame:\")\n",
    "print(df.head())\n",
    "print(\"\\nTail of the DataFrame:\")\n",
    "print(df.tail())\n",
    "\n"
   ]
  },
  {
   "cell_type": "code",
   "execution_count": 6,
   "metadata": {},
   "outputs": [
    {
     "name": "stdout",
     "output_type": "stream",
     "text": [
      "Epoch 1/30\n",
      "552/552 [==============================] - 37s 65ms/step - loss: 0.5230 - accuracy: 0.7557 - val_loss: 0.2964 - val_accuracy: 0.9209\n",
      "Epoch 2/30\n",
      "552/552 [==============================] - 36s 66ms/step - loss: 0.2071 - accuracy: 0.9321 - val_loss: 0.2004 - val_accuracy: 0.9177\n",
      "Epoch 3/30\n",
      "552/552 [==============================] - 38s 69ms/step - loss: 0.1780 - accuracy: 0.9444 - val_loss: 0.1815 - val_accuracy: 0.9531\n",
      "Epoch 4/30\n",
      "552/552 [==============================] - 40s 73ms/step - loss: 0.1570 - accuracy: 0.9524 - val_loss: 0.1495 - val_accuracy: 0.9558\n",
      "Epoch 5/30\n",
      "552/552 [==============================] - 51s 93ms/step - loss: 0.1449 - accuracy: 0.9553 - val_loss: 0.1264 - val_accuracy: 0.9567\n",
      "Epoch 6/30\n",
      "552/552 [==============================] - 42s 76ms/step - loss: 0.1398 - accuracy: 0.9558 - val_loss: 0.1172 - val_accuracy: 0.9592\n",
      "Epoch 7/30\n",
      "552/552 [==============================] - 38s 69ms/step - loss: 0.1263 - accuracy: 0.9589 - val_loss: 0.1215 - val_accuracy: 0.9605\n",
      "Epoch 8/30\n",
      "552/552 [==============================] - 38s 69ms/step - loss: 0.1234 - accuracy: 0.9606 - val_loss: 0.1125 - val_accuracy: 0.9596\n",
      "Epoch 9/30\n",
      "552/552 [==============================] - 42s 77ms/step - loss: 0.1075 - accuracy: 0.9644 - val_loss: 0.1273 - val_accuracy: 0.9580\n",
      "Epoch 10/30\n",
      "552/552 [==============================] - 39s 70ms/step - loss: 0.1029 - accuracy: 0.9669 - val_loss: 0.1325 - val_accuracy: 0.9580\n",
      "Epoch 11/30\n",
      "552/552 [==============================] - 38s 70ms/step - loss: 0.0990 - accuracy: 0.9675 - val_loss: 0.1169 - val_accuracy: 0.9571\n",
      "Epoch 12/30\n",
      "552/552 [==============================] - 38s 69ms/step - loss: 0.0936 - accuracy: 0.9701 - val_loss: 0.1203 - val_accuracy: 0.9580\n",
      "Epoch 13/30\n",
      "552/552 [==============================] - 37s 66ms/step - loss: 0.0857 - accuracy: 0.9724 - val_loss: 0.1344 - val_accuracy: 0.9587\n",
      "Epoch 14/30\n",
      "552/552 [==============================] - 39s 71ms/step - loss: 0.0789 - accuracy: 0.9745 - val_loss: 0.1232 - val_accuracy: 0.9565\n",
      "Epoch 15/30\n",
      "552/552 [==============================] - 48s 87ms/step - loss: 0.0671 - accuracy: 0.9785 - val_loss: 0.1327 - val_accuracy: 0.9485\n",
      "Epoch 16/30\n",
      "552/552 [==============================] - 58s 105ms/step - loss: 0.0626 - accuracy: 0.9809 - val_loss: 0.1467 - val_accuracy: 0.9510\n",
      "Epoch 17/30\n",
      "552/552 [==============================] - 49s 88ms/step - loss: 0.0573 - accuracy: 0.9828 - val_loss: 0.1465 - val_accuracy: 0.9499\n",
      "Epoch 18/30\n",
      "552/552 [==============================] - 47s 86ms/step - loss: 0.0509 - accuracy: 0.9840 - val_loss: 0.1697 - val_accuracy: 0.9578\n",
      "Epoch 19/30\n",
      "552/552 [==============================] - 47s 86ms/step - loss: 0.0540 - accuracy: 0.9826 - val_loss: 0.1626 - val_accuracy: 0.9574\n",
      "Epoch 20/30\n",
      "552/552 [==============================] - 47s 86ms/step - loss: 0.0410 - accuracy: 0.9858 - val_loss: 0.2059 - val_accuracy: 0.9512\n",
      "Epoch 21/30\n",
      "552/552 [==============================] - 48s 86ms/step - loss: 0.0358 - accuracy: 0.9884 - val_loss: 0.2001 - val_accuracy: 0.9531\n",
      "Epoch 22/30\n",
      "552/552 [==============================] - 47s 85ms/step - loss: 0.0283 - accuracy: 0.9914 - val_loss: 0.2026 - val_accuracy: 0.9574\n",
      "Epoch 23/30\n",
      "552/552 [==============================] - 48s 86ms/step - loss: 0.0357 - accuracy: 0.9878 - val_loss: 0.2061 - val_accuracy: 0.9519\n",
      "Epoch 24/30\n",
      "552/552 [==============================] - 48s 87ms/step - loss: 0.0318 - accuracy: 0.9908 - val_loss: 0.2876 - val_accuracy: 0.9560\n",
      "Epoch 25/30\n",
      "552/552 [==============================] - 49s 88ms/step - loss: 0.0266 - accuracy: 0.9912 - val_loss: 0.3178 - val_accuracy: 0.9542\n",
      "Epoch 26/30\n",
      "552/552 [==============================] - 47s 86ms/step - loss: 0.0258 - accuracy: 0.9913 - val_loss: 0.2141 - val_accuracy: 0.9533\n",
      "Epoch 27/30\n",
      "552/552 [==============================] - 48s 86ms/step - loss: 0.0207 - accuracy: 0.9935 - val_loss: 0.2905 - val_accuracy: 0.9562\n",
      "Epoch 28/30\n",
      "552/552 [==============================] - 47s 86ms/step - loss: 0.0228 - accuracy: 0.9926 - val_loss: 0.2086 - val_accuracy: 0.9558\n",
      "Epoch 29/30\n",
      "552/552 [==============================] - 48s 86ms/step - loss: 0.0193 - accuracy: 0.9938 - val_loss: 0.2647 - val_accuracy: 0.9556\n",
      "Epoch 30/30\n",
      "552/552 [==============================] - 47s 86ms/step - loss: 0.0205 - accuracy: 0.9942 - val_loss: 0.2791 - val_accuracy: 0.9605\n",
      "<keras.src.callbacks.History object at 0x7863e7915810>\n"
     ]
    }
   ],
   "source": [
    "import cv2\n",
    "import numpy as np\n",
    "from sklearn.model_selection import train_test_split\n",
    "from sklearn.svm import SVC\n",
    "from sklearn.metrics import accuracy_score\n",
    "from keras.models import Sequential\n",
    "from keras.layers import Conv2D, MaxPooling2D, Flatten, Dense\n",
    "\n",
    "# Function to load and preprocess images\n",
    "def load_images(file_paths, target_size=(64, 64)):\n",
    "    images = []\n",
    "    for path in file_paths:\n",
    "        img = cv2.imread(path)\n",
    "        img = cv2.resize(img, target_size)\n",
    "        images.append(img)\n",
    "    return np.array(images)\n",
    "\n",
    "# Load and preprocess images\n",
    "X = load_images(df['Image_Path'])\n",
    "y = df['Labels']\n",
    "\n",
    "# Split the dataset into training and testing sets\n",
    "X_train, X_test, y_train, y_test = train_test_split(X, y, test_size=0.2, random_state=42)\n",
    "\n",
    "# Build an improved CNN model\n",
    "model = Sequential()\n",
    "model.add(Conv2D(32, (3, 3), activation='relu', input_shape=(64, 64, 3)))\n",
    "model.add(MaxPooling2D((2, 2)))\n",
    "model.add(BatchNormalization())  \n",
    "model.add(Conv2D(64, (3, 3), activation='relu'))\n",
    "model.add(MaxPooling2D((2, 2)))\n",
    "model.add(BatchNormalization())\n",
    "model.add(Conv2D(128, (3, 3), activation='relu'))\n",
    "model.add(MaxPooling2D((2, 2)))\n",
    "model.add(BatchNormalization())\n",
    "model.add(Flatten())\n",
    "model.add(Dense(256, activation='relu'))  \n",
    "model.add(Dropout(0.5))\n",
    "model.add(Dense(128, activation='relu'))  \n",
    "model.add(Dropout(0.5))\n",
    "model.add(Dense(64, activation='relu'))  \n",
    "model.add(Dense(1, activation='sigmoid'))\n",
    "\n",
    "\n",
    "model.compile(optimizer='adam', loss='binary_crossentropy', metrics=['accuracy'])\n",
    "\n",
    "# Train the CNN model\n",
    "history = model.fit(X_train, (y_train == 'parasitized').astype(int), epochs=30, batch_size=32, validation_split=0.2)\n",
    "print(history)\n"
   ]
  },
  {
   "cell_type": "code",
   "execution_count": 7,
   "metadata": {},
   "outputs": [
    {
     "name": "stdout",
     "output_type": "stream",
     "text": [
      "689/689 [==============================] - 11s 16ms/step\n",
      "173/173 [==============================] - 3s 16ms/step\n",
      "Accuracy of the SVM model (kernel: linear): 95.30116110304789\n",
      "Accuracy of the SVM model (kernel: poly): 95.4100145137881\n",
      "Accuracy of the SVM model (kernel: rbf): 95.44629898403484\n"
     ]
    }
   ],
   "source": [
    "\n",
    "results = {\n",
    "    'Kernel Type': [],\n",
    "    'Accuracy': [],\n",
    "    'F1 Score': [],\n",
    "    'Precision': [],\n",
    "    'Specificity': [],\n",
    "}\n",
    "\n",
    "# Extract features from the CNN model\n",
    "cnn_features_train = model.predict(X_train)\n",
    "cnn_features_test = model.predict(X_test)\n",
    "\n",
    "# Reshape features for SVM\n",
    "cnn_features_train_flat = cnn_features_train.reshape(\n",
    "    cnn_features_train.shape[0], -1)\n",
    "cnn_features_test_flat = cnn_features_test.reshape(\n",
    "    cnn_features_test.shape[0], -1)\n",
    "\n",
    "# List of kernel types\n",
    "kernels = ['linear', 'poly', 'rbf']\n",
    "\n",
    "# Train and evaluate SVM models for each kernel\n",
    "for kernel_type in kernels:\n",
    "    # Build an SVM model\n",
    "    svm_model = SVC(kernel=kernel_type)\n",
    "    svm_model.fit(cnn_features_train_flat, (y_train == 'parasitized'))\n",
    "\n",
    "    # Predict using the SVM model\n",
    "    svm_predictions = svm_model.predict(cnn_features_test_flat)\n",
    "    y_pred = svm_model.predict(cnn_features_test_flat)\n",
    "\n",
    "    # Evaluate the SVM model for each kernel\n",
    "    accuracy = accuracy_score((y_test == 'parasitized'), svm_predictions)\n",
    "    print(f\"Accuracy of the SVM model (kernel: {kernel_type}): {accuracy*100}\")\n",
    "    accuracy = accuracy_score((y_test == 'parasitized'), y_pred)\n",
    "    f1 = f1_score((y_test == 'parasitized'), y_pred)\n",
    "    precision = precision_score((y_test == 'parasitized'), y_pred)\n",
    "    conf_matrix = confusion_matrix((y_test == 'parasitized'), y_pred)\n",
    "    specificity = conf_matrix[0, 0] / (conf_matrix[0, 0] + conf_matrix[0, 1])\n",
    "\n",
    "    results['Kernel Type'].append(kernel_type)\n",
    "    results['Accuracy'].append(accuracy)\n",
    "    results['F1 Score'].append(f1)\n",
    "    results['Precision'].append(precision)\n",
    "    results['Specificity'].append(specificity)\n",
    "\n"
   ]
  },
  {
   "cell_type": "code",
   "execution_count": 10,
   "metadata": {
    "scrolled": true
   },
   "outputs": [
    {
     "name": "stdout",
     "output_type": "stream",
     "text": [
      "Kernel Type: 0\n",
      "Accuracy: 0.9530116110304789\n",
      "F1 Score: 0.9531730247694811\n",
      "Precision: 0.964155084125823\n",
      "Specificity: 0.9639042357274401\n",
      "\n",
      "\n",
      "Kernel Type: 1\n",
      "Accuracy: 0.954100145137881\n",
      "F1 Score: 0.9538068285557787\n",
      "Precision: 0.9746268656716418\n",
      "Specificity: 0.9749539594843463\n",
      "\n",
      "\n",
      "Kernel Type: 2\n",
      "Accuracy: 0.9544629898403484\n",
      "F1 Score: 0.9547339945897205\n",
      "Precision: 0.9632459970887919\n",
      "Specificity: 0.9627992633517496\n",
      "\n",
      "\n"
     ]
    }
   ],
   "source": [
    "for index, row in results.iterrows():\n",
    "    print(\"Kernel Type:\", row['Kernel Type'])\n",
    "    print(\"Accuracy:\", row['Accuracy'])\n",
    "    print(\"F1 Score:\", row['F1 Score'])\n",
    "    print(\"Precision:\", row['Precision'])\n",
    "    print(\"Specificity:\", row['Specificity'])\n",
    "    print(\"\\n\")\n"
   ]
  },
  {
   "cell_type": "markdown",
   "metadata": {},
   "source": [
    "### Only considering RBF"
   ]
  },
  {
   "cell_type": "code",
   "execution_count": 15,
   "metadata": {},
   "outputs": [
    {
     "data": {
      "image/png": "[encoded data removed]",
      "text/plain": [
       "<Figure size 640x480 with 2 Axes>"
      ]
     },
     "metadata": {},
     "output_type": "display_data"
    }
   ],
   "source": [
    "import seaborn as sns\n",
    "\n",
    "# Set up subplot\n",
    "plt.subplot(2, 1, 2)\n",
    "\n",
    "# Specify the kernel type\n",
    "kernel_type = 'rbf'\n",
    "\n",
    "# Build an SVM model\n",
    "svm_model = SVC(kernel=kernel_type)\n",
    "svm_model.fit(cnn_features_train_flat, (y_train == 'parasitized'))\n",
    "\n",
    "# Predict using the SVM model\n",
    "y_pred = svm_model.predict(cnn_features_test_flat)\n",
    "\n",
    "# Calculate confusion matrix\n",
    "conf_matrix = confusion_matrix((y_test == 'parasitized'), y_pred)\n",
    "\n",
    "# Plot heatmap\n",
    "sns.heatmap(conf_matrix, annot=True, cmap='Blues', fmt='g',\n",
    "            xticklabels=['Predicted Normal', 'Predicted Parasitized'],\n",
    "            yticklabels=['Actual Normal', 'Actual Parasitized'])\n",
    "plt.title(f'Confusion Matrix ({kernel_type.capitalize()} Kernel)')\n",
    "plt.xlabel('Predicted Label')\n",
    "plt.ylabel('True Label')\n",
    "plt.tight_layout()\n",
    "\n",
    "plt.show()\n"
   ]
  },
  {
   "cell_type": "code",
   "execution_count": null,
   "metadata": {},
   "outputs": [],
   "source": []
  }
 ],
 "metadata": {
  "kernelspec": {
   "display_name": "Python 3 (ipykernel)",
   "language": "python",
   "name": "python3"
  },
  "language_info": {
   "codemirror_mode": {
    "name": "ipython",
    "version": 3
   },
   "file_extension": ".py",
   "mimetype": "text/x-python",
   "name": "python",
   "nbconvert_exporter": "python",
   "pygments_lexer": "ipython3",
   "version": "3.10.12"
  },
  "vscode": {
   "interpreter": {
    "hash": "5238573367df39f7286bb46f9ff5f08f63a01a80960060ce41e3c79b190280fa"
   }
  }
 },
 "nbformat": 4,
 "nbformat_minor": 4
}
